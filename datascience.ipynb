{
 "cells": [
  {
   "cell_type": "markdown",
   "metadata": {},
   "source": [
    "#### Purpose  \n",
    "This notebook (written in Python 3) is intended to address \n",
    "the Data Science challenge presented by ABA Finance\n",
    "\n",
    "#### Candidate    \n",
    "Andrea Chiappo  \n",
    "\n",
    "#### Problem  \n",
    "_Is it possible to fill 10 backpacks with 20 different size boxes?_  \n",
    "\n",
    "\n",
    "Variables:  \n",
    "- two different box types: type A and type B  \n",
    "- boxes have different sizes  \n",
    "- backpacks capacity differs  \n",
    "- box timing: boxes at the end of the truck might be better  \n",
    "\n",
    "The first variable - the presence of two classes of boxes - \n",
    "appears to be redundant to the solution of the problem statement above.  \n",
    "Therefore, this information will be neglect in the remainder of this \n",
    "document.\n",
    "\n",
    "#### Solution    \n",
    "I propose two possible solutions to this Data Science challenge:  \n",
    "a methodic one and a pragmatic one.  \n",
    "\n",
    "##### Methodic solution  \n",
    "The problem at hand resembles the so-called _Knapsack Problem_ \n",
    "with two additional leves of complexity:   \n",
    "- the presence of 10 backpacks of different capacity;  \n",
    "- the presence of a time ordering condition to the boxing order.  \n",
    "\n",
    "Neglecting temporarily the second point above, a solution can be \n",
    "obtained implementing a \"recursive\" version of the **0-1 Knapsack Problem**:  \n",
    "ordering the 10 backpacks' capacity in a given sequence, we start by applying \n",
    "the 0-1 Knapsack solution recipe assuming the first capacity of the sequence \n",
    "and using all 20 boxes. Once the first backpack is filled - the maximum \n",
    "available space has been occupied - we can repeat the procedure, adopting \n",
    "only the remaining boxes and the second backpack. The process is repeated \n",
    "until all backpacks have been used. The upshot will be a series of backpacks \n",
    "filled to a certain degree, as quantified by the maximum value obtained via \n",
    "the 0-1 Knapsack routine. Summing these quantities gives the total performance \n",
    "of the allocations.  \n",
    "This procedure does not necessarily produce the most efficient outcome. \n",
    "To search for other, more performing results, we can shuffle the order of \n",
    "the backpacks - thus their capacity - and repeat the procedure above, each \n",
    "time recording the global (cumulative) maximum value obtained via the \n",
    "0-1 Knapsack procedure. In the end, the sequence of backpacks which yields \n",
    "the highest cumulative value, represents the best performing choice.  \n",
    "\n",
    "The time ordering on the boxes can be reintroduced adding a feature to the \n",
    "data. Using this information at the end of the process above, one can \n",
    "identify which backpacks can be grouped together, following their time \n",
    "affinity. Inserting this criteria during the boxes allocation procedure \n",
    "above might affect the efficiency of the process.\n",
    "\n",
    "##### Pragmatic solution  \n",
    "A _brute force_ solution could entail exploring all possible allocations \n",
    "by simulating the scenarios. In this case, one would compute all possible \n",
    "combinations of boxes $\\binom nk$ and detect the ones which, for a given \n",
    "capacity, occupy to large space available. This approach, on one hand, \n",
    "might more easily accommodate the time ordering condition and should \n",
    "perform well when small quantities (number of boxes and backpacks) are \n",
    "involved. However, its performance might quickly escalate as the number \n",
    "of elements involved grows. On the other hand, the _Methodic solution_ \n",
    "presented above, scale as $O(nWur)$, with $n$ the number of boxes, $W$ \n",
    "the capacity of each backpack, $u$ the number of backpacks (assuming, for \n",
    "simplicity that all have $\\sim W$) and $r$ the number of reshufflings."
   ]
  },
  {
   "cell_type": "code",
   "execution_count": 157,
   "metadata": {},
   "outputs": [],
   "source": [
    "import numpy as np"
   ]
  },
  {
   "cell_type": "code",
   "execution_count": 576,
   "metadata": {},
   "outputs": [],
   "source": [
    "def knapSack(W, wt, sz, n): \n",
    "    # function which returns a dictionary consisting of:\n",
    "    # the total value and items which can be place in the knapsack\n",
    "    #\n",
    "    # NB: the labelling of the items entering the second returned value refers\n",
    "    #     to the positional argument of the provided wt and sz arrays\n",
    "    #     (e.g. '1,2,3,' means first, second, third argument)\n",
    "    #\n",
    "    \n",
    "    # initialiase an array of empty dictionaries\n",
    "    K = [[{'v':0, 'i':''} for y in range(W+1)] for z in range(n+1)]\n",
    "\n",
    "    # Build table K[][] in bottom up manner \n",
    "    for i in range(n+1): \n",
    "        for w in range(W+1): \n",
    "            if i==0 or w==0: \n",
    "                K[i][w]['v'] = 0\n",
    "                K[i][w]['i'] = ''\n",
    "\n",
    "            elif wt[i-1] <= w:\n",
    "                C1 = sz[i-1] \n",
    "                C2 = K[i-1][w-wt[i-1]]['v']\n",
    "                C3 = K[i-1][w]['v']\n",
    "                if C1+C2>=C3:\n",
    "                    K[i][w]['v'] = C1+C2\n",
    "                    K[i][w]['i'] = K[i][w]['i'] + '%i,'%i\n",
    "                    if C2!=0:\n",
    "                        K[i][w]['i'] = K[i][w]['i'] + K[i-1][w-wt[i-1]]['i']\n",
    "                else:\n",
    "                    K[i][w]['v'] = C3\n",
    "                    K[i][w]['i'] = K[i-1][w]['i']\n",
    "            else: \n",
    "                K[i][w]['v'] = K[i-1][w]['v']\n",
    "                K[i][w]['i'] = K[i-1][w]['i']\n",
    "    return K[i][w]"
   ]
  },
  {
   "cell_type": "markdown",
   "metadata": {},
   "source": [
    "#### Additional material\n",
    "\n",
    "Below I show that the order of the boxes within each execution of  \n",
    "the _0-1 Knapsack problem_ algorithm does no influece the outcome"
   ]
  },
  {
   "cell_type": "code",
   "execution_count": 651,
   "metadata": {},
   "outputs": [],
   "source": [
    "sz = np.random.randint(50, 100, 20)\n",
    "wt = np.random.randint(1, 20, 20)\n",
    "n = len(sz) "
   ]
  },
  {
   "cell_type": "code",
   "execution_count": 652,
   "metadata": {},
   "outputs": [
    {
     "data": {
      "text/plain": [
       "({'v': 581, 'i': '18,14,11,10,9,6,3,2,'},\n",
       " {'v': 581, 'i': '20,18,15,13,4,3,2,1,'})"
      ]
     },
     "execution_count": 652,
     "metadata": {},
     "output_type": "execute_result"
    }
   ],
   "source": [
    "ind = np.random.permutation(range(n))\n",
    "newsz = sz[ind]\n",
    "newwt = wt[ind]\n",
    "\n",
    "knapSack(30, wt, sz, n), knapSack(30, newwt, newsz, n)"
   ]
  },
  {
   "cell_type": "markdown",
   "metadata": {},
   "source": [
    "Above 'v' indicates the maximum value achieved,  \n",
    "while 'i' are the indices of all allocated boxes"
   ]
  },
  {
   "cell_type": "markdown",
   "metadata": {},
   "source": [
    "### case 1"
   ]
  },
  {
   "cell_type": "code",
   "execution_count": 667,
   "metadata": {},
   "outputs": [
    {
     "name": "stdout",
     "output_type": "stream",
     "text": [
      "first knapsack assignment, on  20  boxes\n",
      "{'v': 540, 'i': '18,16,14,11,10,6,3,2,'}\n",
      "second knapsack assignment, on  12  boxes\n",
      "{'v': 281, 'i': '12,9,8,'}\n",
      "second knapsack assignment, on  9  boxes\n",
      "{'v': 181, 'i': '8,1,'}\n",
      "Cumulative value:  1002\n"
     ]
    }
   ],
   "source": [
    "print('first knapsack assignment, on ',n,' boxes')\n",
    "\n",
    "W = [24,30,34]\n",
    "\n",
    "res = knapSack(W[0], wt, sz, n)\n",
    "print(res)\n",
    "\n",
    "V = res['v']\n",
    "\n",
    "items = res['i'].split(',')\n",
    "items = [i-1 for i in map(int,filter(bool,items))]\n",
    "newsz = np.delete(sz, items)\n",
    "newwt = np.delete(wt, items)\n",
    "newn = len(newsz)\n",
    "\n",
    "print('second knapsack assignment, on ',newn,' boxes')\n",
    "\n",
    "res = knapSack(W[1], newwt, newval, newn)\n",
    "print(res)\n",
    "\n",
    "V += res['v']\n",
    "\n",
    "items = res['i'].split(',')\n",
    "items = [i-1 for i in map(int,filter(bool,items))]\n",
    "newsz = np.delete(newsz, items)\n",
    "newwt = np.delete(newwt, items)\n",
    "newn = len(newsz)\n",
    "\n",
    "print('second knapsack assignment, on ',newn,' boxes')\n",
    "\n",
    "res = knapSack(W[2], newwt, newval, newn)\n",
    "print(res)\n",
    "\n",
    "V += res['v']\n",
    "\n",
    "print('Cumulative value: ',V)"
   ]
  },
  {
   "cell_type": "markdown",
   "metadata": {},
   "source": [
    "### case 2"
   ]
  },
  {
   "cell_type": "code",
   "execution_count": 668,
   "metadata": {},
   "outputs": [
    {
     "name": "stdout",
     "output_type": "stream",
     "text": [
      "first knapsack assignment, on  20  boxes\n",
      "{'v': 581, 'i': '18,14,11,10,9,6,3,2,'}\n",
      "second knapsack assignment, on  12  boxes\n",
      "{'v': 363, 'i': '12,9,8,7,'}\n",
      "second knapsack assignment, on  8  boxes\n",
      "{'v': 96, 'i': '8,'}\n",
      "Cumulative value:  1040\n"
     ]
    }
   ],
   "source": [
    "print('first knapsack assignment, on ',n,' boxes')\n",
    "\n",
    "W = [24,30,34]\n",
    "\n",
    "res = knapSack(W[1], wt, sz, n)\n",
    "print(res)\n",
    "\n",
    "V = res['v']\n",
    "\n",
    "items = res['i'].split(',')\n",
    "items = [i-1 for i in map(int,filter(bool,items))]\n",
    "newsz = np.delete(sz, items)\n",
    "newwt = np.delete(wt, items)\n",
    "newn = len(newsz)\n",
    "\n",
    "print('second knapsack assignment, on ',newn,' boxes')\n",
    "\n",
    "res = knapSack(W[2], newwt, newval, newn)\n",
    "print(res)\n",
    "\n",
    "V += res['v']\n",
    "\n",
    "items = res['i'].split(',')\n",
    "items = [i-1 for i in map(int,filter(bool,items))]\n",
    "newsz = np.delete(newsz, items)\n",
    "newwt = np.delete(newwt, items)\n",
    "newn = len(newsz)\n",
    "\n",
    "print('second knapsack assignment, on ',newn,' boxes')\n",
    "\n",
    "res = knapSack(W[0], newwt, newval, newn)\n",
    "print(res)\n",
    "\n",
    "V += res['v']\n",
    "\n",
    "print('Cumulative value: ',V)"
   ]
  },
  {
   "cell_type": "markdown",
   "metadata": {},
   "source": [
    "### case 3"
   ]
  },
  {
   "cell_type": "code",
   "execution_count": 669,
   "metadata": {},
   "outputs": [
    {
     "name": "stdout",
     "output_type": "stream",
     "text": [
      "first knapsack assignment, on  20  boxes\n",
      "{'v': 626, 'i': '20,18,14,13,11,10,6,3,2,'}\n",
      "second knapsack assignment, on  11  boxes\n",
      "{'v': 236, 'i': '9,8,6,'}\n",
      "second knapsack assignment, on  8  boxes\n",
      "{'v': 96, 'i': '8,'}\n",
      "Cumulative value:  958\n"
     ]
    }
   ],
   "source": [
    "print('first knapsack assignment, on ',n,' boxes')\n",
    "\n",
    "W = [24,30,34]\n",
    "\n",
    "res = knapSack(W[2], wt, sz, n)\n",
    "print(res)\n",
    "\n",
    "V = res['v']\n",
    "\n",
    "items = res['i'].split(',')\n",
    "items = [i-1 for i in map(int,filter(bool,items))]\n",
    "newsz = np.delete(sz, items)\n",
    "newwt = np.delete(wt, items)\n",
    "newn = len(newsz)\n",
    "\n",
    "print('second knapsack assignment, on ',newn,' boxes')\n",
    "\n",
    "res = knapSack(W[1], newwt, newval, newn)\n",
    "print(res)\n",
    "\n",
    "V += res['v']\n",
    "\n",
    "items = res['i'].split(',')\n",
    "items = [i-1 for i in map(int,filter(bool,items))]\n",
    "newsz = np.delete(newsz, items)\n",
    "newwt = np.delete(newwt, items)\n",
    "newn = len(newsz)\n",
    "\n",
    "print('second knapsack assignment, on ',newn,' boxes')\n",
    "\n",
    "res = knapSack(W[0], newwt, newval, newn)\n",
    "print(res)\n",
    "\n",
    "V += res['v']\n",
    "\n",
    "print('Cumulative value: ',V)"
   ]
  },
  {
   "cell_type": "code",
   "execution_count": 670,
   "metadata": {},
   "outputs": [],
   "source": [
    "# I am not worring about the periodicity of the reshuffling, as this\n",
    "# becomes progressively negligible as the arrays' size increases"
   ]
  },
  {
   "cell_type": "code",
   "execution_count": 661,
   "metadata": {},
   "outputs": [
    {
     "name": "stdout",
     "output_type": "stream",
     "text": [
      "[8, 1, 0, 9, 6, 4, 3, 2, 5, 7]\n",
      "[0, 5, 4, 8, 2, 6, 9, 3, 7, 1]\n",
      "[0, 5, 3, 6, 8, 7, 1, 2, 9, 4]\n",
      "[8, 9, 6, 2, 0, 1, 7, 5, 3, 4]\n"
     ]
    }
   ],
   "source": [
    "WW = np.random.randint(20, 40, 10)\n",
    "OO = list(range(len(WW)))\n",
    "shuffle(OO)\n",
    "print(OO)\n",
    "shuffle(OO)\n",
    "print(OO)\n",
    "shuffle(OO)\n",
    "print(OO)\n",
    "shuffle(OO)\n",
    "print(OO)"
   ]
  },
  {
   "cell_type": "code",
   "execution_count": 25,
   "metadata": {},
   "outputs": [
    {
     "name": "stdout",
     "output_type": "stream",
     "text": [
      "90\n",
      "180\n"
     ]
    }
   ],
   "source": [
    "V = 0\n",
    "for w,W in enumerate(WW):\n",
    "    V += knapSack(W, wt, val, n)\n",
    "    print(V)"
   ]
  },
  {
   "cell_type": "code",
   "execution_count": null,
   "metadata": {},
   "outputs": [],
   "source": []
  }
 ],
 "metadata": {
  "kernelspec": {
   "display_name": "Python 3",
   "language": "python",
   "name": "python3"
  },
  "language_info": {
   "codemirror_mode": {
    "name": "ipython",
    "version": 3
   },
   "file_extension": ".py",
   "mimetype": "text/x-python",
   "name": "python",
   "nbconvert_exporter": "python",
   "pygments_lexer": "ipython3",
   "version": "3.7.3"
  }
 },
 "nbformat": 4,
 "nbformat_minor": 2
}
